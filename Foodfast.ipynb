{
 "cells": [
  {
   "cell_type": "markdown",
   "id": "9f01d56c-1a4b-4b21-a412-380e5a5a3de9",
   "metadata": {},
   "source": [
    "# DATA ANALYSIS ON  UK BASED FOOD FAST STORE "
   ]
  },
  {
   "cell_type": "markdown",
   "id": "12e6d5db-9f66-4285-967c-1d45e45e3229",
   "metadata": {},
   "source": [
    "## Loading of packages"
   ]
  },
  {
   "cell_type": "code",
   "execution_count": null,
   "id": "1ead2075-9224-472c-b169-93226a600aa0",
   "metadata": {},
   "outputs": [],
   "source": [
    "import pandas as pd\n",
    "import numpy as np\n",
    "import missingno as msno\n",
    "import matplotlib.pyplot as plt\n",
    "import numpy as np\n",
    "import os"
   ]
  },
  {
   "cell_type": "markdown",
   "id": "8c41a0aa-7776-4e96-bcf6-17ab6257c84d",
   "metadata": {},
   "source": [
    "## Loading of data set"
   ]
  },
  {
   "cell_type": "code",
   "execution_count": 42,
   "id": "c0eed86e-cdcc-4a8b-9192-6f6efe67105f",
   "metadata": {},
   "outputs": [
    {
     "data": {
      "text/html": [
       "<div>\n",
       "<style scoped>\n",
       "    .dataframe tbody tr th:only-of-type {\n",
       "        vertical-align: middle;\n",
       "    }\n",
       "\n",
       "    .dataframe tbody tr th {\n",
       "        vertical-align: top;\n",
       "    }\n",
       "\n",
       "    .dataframe thead th {\n",
       "        text-align: right;\n",
       "    }\n",
       "</style>\n",
       "<table border=\"1\" class=\"dataframe\">\n",
       "  <thead>\n",
       "    <tr style=\"text-align: right;\">\n",
       "      <th></th>\n",
       "      <th>ID</th>\n",
       "      <th>Question 1</th>\n",
       "      <th>Question 2 (Age Group)</th>\n",
       "      <th>Question 3</th>\n",
       "      <th>Question 4</th>\n",
       "      <th>Question 5</th>\n",
       "      <th>Question 6</th>\n",
       "      <th>Question 7</th>\n",
       "      <th>Question 8</th>\n",
       "    </tr>\n",
       "  </thead>\n",
       "  <tbody>\n",
       "    <tr>\n",
       "      <th>0</th>\n",
       "      <td>1</td>\n",
       "      <td>Male</td>\n",
       "      <td>4</td>\n",
       "      <td>2</td>\n",
       "      <td>8</td>\n",
       "      <td>9</td>\n",
       "      <td>10</td>\n",
       "      <td>10</td>\n",
       "      <td>1</td>\n",
       "    </tr>\n",
       "    <tr>\n",
       "      <th>1</th>\n",
       "      <td>2</td>\n",
       "      <td>Male</td>\n",
       "      <td>5</td>\n",
       "      <td>3</td>\n",
       "      <td>9</td>\n",
       "      <td>6</td>\n",
       "      <td>10</td>\n",
       "      <td>9</td>\n",
       "      <td>1</td>\n",
       "    </tr>\n",
       "    <tr>\n",
       "      <th>2</th>\n",
       "      <td>3</td>\n",
       "      <td>Male</td>\n",
       "      <td>4</td>\n",
       "      <td>3</td>\n",
       "      <td>7</td>\n",
       "      <td>8</td>\n",
       "      <td>9</td>\n",
       "      <td>8</td>\n",
       "      <td>2</td>\n",
       "    </tr>\n",
       "    <tr>\n",
       "      <th>3</th>\n",
       "      <td>4</td>\n",
       "      <td>Male</td>\n",
       "      <td>1</td>\n",
       "      <td>1</td>\n",
       "      <td>7</td>\n",
       "      <td>8</td>\n",
       "      <td>9</td>\n",
       "      <td>8</td>\n",
       "      <td>6</td>\n",
       "    </tr>\n",
       "    <tr>\n",
       "      <th>4</th>\n",
       "      <td>5</td>\n",
       "      <td>Male</td>\n",
       "      <td>1</td>\n",
       "      <td>4</td>\n",
       "      <td>8</td>\n",
       "      <td>9</td>\n",
       "      <td>10</td>\n",
       "      <td>10</td>\n",
       "      <td>1</td>\n",
       "    </tr>\n",
       "  </tbody>\n",
       "</table>\n",
       "</div>"
      ],
      "text/plain": [
       "   ID Question 1   Question 2 (Age Group)  Question 3  Question 4  Question 5  \\\n",
       "0   1        Male                       4           2           8           9   \n",
       "1   2        Male                       5           3           9           6   \n",
       "2   3        Male                       4           3           7           8   \n",
       "3   4        Male                       1           1           7           8   \n",
       "4   5        Male                       1           4           8           9   \n",
       "\n",
       "   Question 6   Question 7  Question 8  \n",
       "0           10          10           1  \n",
       "1           10           9           1  \n",
       "2            9           8           2  \n",
       "3            9           8           6  \n",
       "4           10          10           1  "
      ]
     },
     "execution_count": 42,
     "metadata": {},
     "output_type": "execute_result"
    }
   ],
   "source": [
    "data=pd.read_csv('Foodfaststores.csv')\n",
    "\n",
    "data.head()"
   ]
  },
  {
   "cell_type": "code",
   "execution_count": 17,
   "id": "3521ae69-742b-49df-834e-4e81a7e0bdb8",
   "metadata": {},
   "outputs": [
    {
     "name": "stdout",
     "output_type": "stream",
     "text": [
      "<class 'pandas.core.frame.DataFrame'>\n",
      "RangeIndex: 350 entries, 0 to 349\n",
      "Data columns (total 9 columns):\n",
      " #   Column                  Non-Null Count  Dtype \n",
      "---  ------                  --------------  ----- \n",
      " 0   ID                      350 non-null    int64 \n",
      " 1   Question 1              350 non-null    object\n",
      " 2   Question 2 (Age Group)  350 non-null    int64 \n",
      " 3   Question 3              350 non-null    int64 \n",
      " 4   Question 4              350 non-null    int64 \n",
      " 5   Question 5              350 non-null    int64 \n",
      " 6   Question 6              350 non-null    int64 \n",
      " 7   Question 7              350 non-null    int64 \n",
      " 8   Question 8              350 non-null    int64 \n",
      "dtypes: int64(8), object(1)\n",
      "memory usage: 24.7+ KB\n"
     ]
    }
   ],
   "source": [
    "data.info()"
   ]
  },
  {
   "cell_type": "code",
   "execution_count": 79,
   "id": "6b51524a-5db5-47ab-b120-e5b30e4f32c0",
   "metadata": {},
   "outputs": [
    {
     "data": {
      "text/plain": [
       "(350, 9)"
      ]
     },
     "execution_count": 79,
     "metadata": {},
     "output_type": "execute_result"
    }
   ],
   "source": [
    "data.shape"
   ]
  },
  {
   "cell_type": "markdown",
   "id": "03b5a1ab-e3ac-4e60-92a1-9306c320112d",
   "metadata": {},
   "source": [
    "## Renaming of columns"
   ]
  },
  {
   "cell_type": "code",
   "execution_count": 44,
   "id": "ab80b51e-bb16-4909-9179-1b9b8aab505c",
   "metadata": {},
   "outputs": [],
   "source": [
    "data.columns = ['ID', 'Gender', 'Age_group', 'service_satifaction', 'Helpline_Assistance', 'Waiting_period', \n",
    "                       'VerificationSatifaction', 'Foodpackaging', 'Cashback_satifaction']"
   ]
  },
  {
   "cell_type": "code",
   "execution_count": 6,
   "id": "5a3043d1-6eb5-4133-a609-9777e782d344",
   "metadata": {},
   "outputs": [
    {
     "data": {
      "text/plain": [
       "Index(['ID', 'Gender', 'Age_group', 'service_satifaction',\n",
       "       'Helpline_Assistance', 'Waiting_period', 'VerificationSatifaction',\n",
       "       'Foodpackaging', 'Cashback_satifaction'],\n",
       "      dtype='object')"
      ]
     },
     "execution_count": 6,
     "metadata": {},
     "output_type": "execute_result"
    }
   ],
   "source": [
    "data.columns"
   ]
  },
  {
   "cell_type": "markdown",
   "id": "08c894e9-add0-4088-9a0a-74e79d5a49fd",
   "metadata": {},
   "source": [
    "## checking of data type and conversion"
   ]
  },
  {
   "cell_type": "code",
   "execution_count": 22,
   "id": "3b1f9e77-722d-4840-8da0-7b0a7ee92389",
   "metadata": {},
   "outputs": [
    {
     "name": "stdout",
     "output_type": "stream",
     "text": [
      "<class 'pandas.core.frame.DataFrame'>\n",
      "RangeIndex: 350 entries, 0 to 349\n",
      "Data columns (total 9 columns):\n",
      " #   Column                   Non-Null Count  Dtype \n",
      "---  ------                   --------------  ----- \n",
      " 0   ID                       350 non-null    int64 \n",
      " 1   Gender                   350 non-null    object\n",
      " 2   Age_group                350 non-null    int64 \n",
      " 3   service_satifaction      350 non-null    int64 \n",
      " 4   Helpline_Assistance      350 non-null    int64 \n",
      " 5   Waiting_period           350 non-null    int64 \n",
      " 6   VerificationSatifaction  350 non-null    int64 \n",
      " 7   Foodpackaging            350 non-null    int64 \n",
      " 8   Cashback_satifaction     350 non-null    int64 \n",
      "dtypes: int64(8), object(1)\n",
      "memory usage: 24.7+ KB\n"
     ]
    }
   ],
   "source": [
    "data.info()"
   ]
  },
  {
   "cell_type": "code",
   "execution_count": 45,
   "id": "8103088a-d178-4672-8b22-4a260341969e",
   "metadata": {},
   "outputs": [],
   "source": [
    "data['Age_group'] = data['Age_group'].astype(object)\n",
    "data['Helpline_Assistance'] = data['Helpline_Assistance'].astype(object)\n",
    "data['Waiting_period'] = data['Waiting_period'].astype(object)\n",
    "data['VerificationSatifaction'] = data['VerificationSatifaction'].astype(object)\n",
    "data['Foodpackaging'] = data['Foodpackaging'].astype(object)\n",
    "data['Cashback_satifaction'] = data['Cashback_satifaction'].astype(object)"
   ]
  },
  {
   "cell_type": "code",
   "execution_count": 26,
   "id": "9ffb6407-b91e-4d2d-86df-e17a1247f802",
   "metadata": {},
   "outputs": [
    {
     "name": "stdout",
     "output_type": "stream",
     "text": [
      "<class 'pandas.core.frame.DataFrame'>\n",
      "RangeIndex: 350 entries, 0 to 349\n",
      "Data columns (total 9 columns):\n",
      " #   Column                   Non-Null Count  Dtype \n",
      "---  ------                   --------------  ----- \n",
      " 0   ID                       350 non-null    int64 \n",
      " 1   Gender                   350 non-null    object\n",
      " 2   Age_group                350 non-null    object\n",
      " 3   service_satifaction      350 non-null    int64 \n",
      " 4   Helpline_Assistance      350 non-null    object\n",
      " 5   Waiting_period           350 non-null    object\n",
      " 6   VerificationSatifaction  350 non-null    object\n",
      " 7   Foodpackaging            350 non-null    object\n",
      " 8   Cashback_satifaction     350 non-null    object\n",
      "dtypes: int64(2), object(7)\n",
      "memory usage: 24.7+ KB\n"
     ]
    }
   ],
   "source": [
    "data.info()"
   ]
  },
  {
   "cell_type": "markdown",
   "id": "43ff2ad1-01df-4d6d-9530-08ba63c9c15a",
   "metadata": {},
   "source": [
    "## Missing data checking and their distribution"
   ]
  },
  {
   "cell_type": "code",
   "execution_count": 27,
   "id": "ee383710-eb0a-4905-9363-c0a3c83008ff",
   "metadata": {},
   "outputs": [
    {
     "data": {
      "text/plain": [
       "ID                         0\n",
       "Gender                     0\n",
       "Age_group                  0\n",
       "service_satifaction        0\n",
       "Helpline_Assistance        0\n",
       "Waiting_period             0\n",
       "VerificationSatifaction    0\n",
       "Foodpackaging              0\n",
       "Cashback_satifaction       0\n",
       "dtype: int64"
      ]
     },
     "execution_count": 27,
     "metadata": {},
     "output_type": "execute_result"
    }
   ],
   "source": [
    "data.isnull().sum()"
   ]
  },
  {
   "cell_type": "code",
   "execution_count": 29,
   "id": "cfde0a2c-eb1d-44cb-9607-3b9468f84e3f",
   "metadata": {},
   "outputs": [
    {
     "data": {
      "text/plain": [
       "<AxesSubplot:>"
      ]
     },
     "execution_count": 29,
     "metadata": {},
     "output_type": "execute_result"
    },
    {
     "data": {
      "image/png": "[encoded data removed]",
      "text/plain": [
       "<Figure size 1800x720 with 3 Axes>"
      ]
     },
     "metadata": {
      "needs_background": "light"
     },
     "output_type": "display_data"
    }
   ],
   "source": [
    "msno.bar(data)"
   ]
  },
  {
   "cell_type": "markdown",
   "id": "1214154e-9288-4271-a128-3f480b8cebcc",
   "metadata": {},
   "source": [
    "## Factor recoding"
   ]
  },
  {
   "cell_type": "code",
   "execution_count": 30,
   "id": "a7b7fdde-738e-4bfe-b735-bfaeb57b8a36",
   "metadata": {},
   "outputs": [
    {
     "data": {
      "text/plain": [
       "3    92\n",
       "2    89\n",
       "1    83\n",
       "4    55\n",
       "5    31\n",
       "Name: Age_group, dtype: int64"
      ]
     },
     "execution_count": 30,
     "metadata": {},
     "output_type": "execute_result"
    }
   ],
   "source": [
    "data['Age_group']=data['Age_group'].replace(['1','2','3','4','5'],[\"18–29years\" ,\"30–39years\",\"40–49years\",\"50–59years\",\">= 60 years\"])"
   ]
  },
  {
   "cell_type": "code",
   "execution_count": 31,
   "id": "189017c8-0c4d-4389-a115-e35151c196c8",
   "metadata": {},
   "outputs": [
    {
     "data": {
      "text/plain": [
       "5    62\n",
       "2    60\n",
       "1    59\n",
       "4    59\n",
       "3    45\n",
       "7    38\n",
       "6    27\n",
       "Name: service_satifaction, dtype: int64"
      ]
     },
     "execution_count": 31,
     "metadata": {},
     "output_type": "execute_result"
    }
   ],
   "source": [
    "data['service_satifaction']=data['service_satifaction'].replace(['1','2','3','4','5','6','7','8','9','10'],\n",
    "                                            [\"Strongly_Agree\", \"Agree\",\"Avaragely_Agree\",\"Somewhat_Agree\",\"Little_Agree\",\"Neutral\",\"Little_disagree\",\"Somewhat_disagree\",\"Disagree\",\"Strongly_disagree\"])"
   ]
  },
  {
   "cell_type": "code",
   "execution_count": null,
   "id": "fe7921af-feeb-48fe-a1f2-589ada0bda25",
   "metadata": {},
   "outputs": [],
   "source": [
    "\"Strongly_Agree\", \"Agree\",\"Avaragely_Agree\",\"Somewhat_Agree\",\"Little_Agree\",\"Neutral\",\"Little_disagree\",\"Somewhat_disagree\",\"Disagree\",\"Strongly_disagree\""
   ]
  },
  {
   "cell_type": "code",
   "execution_count": 49,
   "id": "476456e4-d935-4c7c-803e-8c6e8c934671",
   "metadata": {},
   "outputs": [
    {
     "data": {
      "text/plain": [
       "7    93\n",
       "5    80\n",
       "8    61\n",
       "6    53\n",
       "4    36\n",
       "3    12\n",
       "2     6\n",
       "1     5\n",
       "9     4\n",
       "Name: Helpline_Assistance, dtype: int64"
      ]
     },
     "execution_count": 49,
     "metadata": {},
     "output_type": "execute_result"
    }
   ],
   "source": [
    "data['Helpline_Assistance']=data['Helpline_Assistance'].replace(['1','2','3','4','5','6','7','8','9','10'],\n",
    "                                            ['Strongly_Agree', 'Agree','Avaragely_Agree','Somewhat_Agree','Little_Agree','Neutral','Little_disagree','Somewhat_disagree','Disagree','Strongly_disagree'])"
   ]
  },
  {
   "cell_type": "code",
   "execution_count": 33,
   "id": "3eec33ac-18a1-4c69-901e-5b452d141019",
   "metadata": {},
   "outputs": [
    {
     "data": {
      "text/plain": [
       "5    140\n",
       "8     81\n",
       "6     51\n",
       "7     47\n",
       "1     10\n",
       "2      8\n",
       "3      6\n",
       "9      4\n",
       "4      3\n",
       "Name: Waiting_period, dtype: int64"
      ]
     },
     "execution_count": 33,
     "metadata": {},
     "output_type": "execute_result"
    }
   ],
   "source": [
    "data['Waiting_period']=data['Waiting_period'].replace(['1','2','3','4','5','6','7','8','9','10'],\n",
    "                                            [\"Strongly_Agree\", \"Agree\",\"Avaragely_Agree\",\"Somewhat_Agree\",\"Little_Agree\",\"Neutral\",\"Little_disagree\",\"Somewhat_disagree\",\"Disagree\",\"Strongly_disagree\"])"
   ]
  },
  {
   "cell_type": "code",
   "execution_count": 47,
   "id": "8137203f-077b-4199-b18e-514d2e0b8964",
   "metadata": {},
   "outputs": [
    {
     "data": {
      "text/plain": [
       "9     92\n",
       "6     70\n",
       "8     70\n",
       "5     48\n",
       "7     24\n",
       "2     21\n",
       "3     15\n",
       "4      7\n",
       "10     3\n",
       "Name: VerificationSatifaction, dtype: int64"
      ]
     },
     "execution_count": 47,
     "metadata": {},
     "output_type": "execute_result"
    }
   ],
   "source": [
    "data['VerificationSatifaction']=data['VerificationSatifaction'].replace(['1','2','3','4','5','6','7','8','9','10'],\n",
    "                                            [\"Strongly_Agree\", \"Agree\",\"Avaragely_Agree\",\"Somewhat_Agree\",\"Little_Agree\",\"Neutral\",\"Little_disagree\",\"Somewhat_disagree\",\"Disagree\",\"Strongly_disagree\"])"
   ]
  },
  {
   "cell_type": "code",
   "execution_count": 35,
   "id": "cbec7a7f-a9fa-4b6a-a66f-a74aeee67f2f",
   "metadata": {},
   "outputs": [
    {
     "data": {
      "text/plain": [
       "6     168\n",
       "7      62\n",
       "5      57\n",
       "1      23\n",
       "3      11\n",
       "2       9\n",
       "10      7\n",
       "8       5\n",
       "9       4\n",
       "4       4\n",
       "Name: Foodpackaging, dtype: int64"
      ]
     },
     "execution_count": 35,
     "metadata": {},
     "output_type": "execute_result"
    }
   ],
   "source": [
    "data['Foodpackaging']=data['Foodpackaging'].replace(['1','2','3','4','5','6','7','8','9','10'],\n",
    "                                            [\"Strongly_Agree\", \"Agree\",\"Avaragely_Agree\",\"Somewhat_Agree\",\"Little_Agree\",\"Neutral\",\"Little_disagree\",\"Somewhat_disagree\",\"Disagree\",\"Strongly_disagree\"])"
   ]
  },
  {
   "cell_type": "code",
   "execution_count": 36,
   "id": "0976578d-2a36-4a79-aa1f-0f0a0e4e6502",
   "metadata": {},
   "outputs": [
    {
     "data": {
      "text/plain": [
       "6     74\n",
       "5     56\n",
       "4     43\n",
       "8     39\n",
       "2     34\n",
       "7     34\n",
       "1     28\n",
       "3     27\n",
       "9     12\n",
       "10     3\n",
       "Name: Cashback_satifaction, dtype: int64"
      ]
     },
     "execution_count": 36,
     "metadata": {},
     "output_type": "execute_result"
    }
   ],
   "source": [
    "data['Cashback_satifaction']=data['Cashback_satifaction'].replace(['1','2','3','4','5','6','7','8','9','10'],\n",
    "                                            [\"Strongly_Agree\", \"Agree\",\"Avaragely_Agree\",\"Somewhat_Agree\",\"Little_Agree\",\"Neutral\",\"Little_disagree\",\"Somewhat_disagree\",\"Disagree\",\"Strongly_disagree\"])"
   ]
  },
  {
   "cell_type": "markdown",
   "id": "7375ab87-1dec-4acc-a366-aa93c73fbea4",
   "metadata": {},
   "source": [
    "## Changing entries in levels"
   ]
  },
  {
   "cell_type": "code",
   "execution_count": 87,
   "id": "f8549730-edb0-4c34-a5c6-1e4e5e2188c9",
   "metadata": {},
   "outputs": [],
   "source": [
    "changes={\n",
    "'Helpline_Assistance':{\n",
    "1:\"Strongly_Agree\", \n",
    "2:\"Agree\",\n",
    "3:\"Avaragely_Agree\",\n",
    "4:\"Somewhat_Agree\",\n",
    "5:\"Little_Agree\",\n",
    "6:\"Neutral\",\n",
    "7:\"Little_disagree\",\n",
    "8:\"Somewhat_disagree\",\n",
    "9:\"Disagree\",\n",
    "10:\"Strongly_disagree\"\n",
    "},\n",
    "    \n",
    "'Waiting_period':{\n",
    "1:\"Strongly_Agree\", \n",
    "2:\"Agree\",\n",
    "3:\"Avaragely_Agree\",\n",
    "4:\"Somewhat_Agree\",\n",
    "5:\"Little_Agree\",\n",
    "6:\"Neutral\",\n",
    "7:\"Little_disagree\",\n",
    "8:\"Somewhat_disagree\",\n",
    "9:\"Disagree\",\n",
    "10:\"Strongly_disagree\"\n",
    "},\n",
    "    \n",
    "'VerificationSatifaction':{\n",
    "1:\"Strongly_Agree\", \n",
    "2:\"Agree\",\n",
    "3:\"Avaragely_Agree\",\n",
    "4:\"Somewhat_Agree\",\n",
    "5:\"Little_Agree\",\n",
    "6:\"Neutral\",\n",
    "7:\"Little_disagree\",\n",
    "8:\"Somewhat_disagree\",\n",
    "9:\"Disagree\",\n",
    "10:\"Strongly_disagree\"\n",
    "},\n",
    "    \n",
    "'Foodpackaging':{\n",
    "1:\"Strongly_Agree\", \n",
    "2:\"Agree\",\n",
    "3:\"Avaragely_Agree\",\n",
    "4:\"Somewhat_Agree\",\n",
    "5:\"Little_Agree\",\n",
    "6:\"Neutral\",\n",
    "7:\"Little_disagree\",\n",
    "8:\"Somewhat_disagree\",\n",
    "9:\"Disagree\",\n",
    "10:\"Strongly_disagree\"\n",
    "},\n",
    "    \n",
    "'service_satifaction':{\n",
    "1:\"Strongly_Agree\", \n",
    "2:\"Agree\",\n",
    "3:\"Avaragely_Agree\",\n",
    "4:\"Somewhat_Agree\",\n",
    "5:\"Little_Agree\",\n",
    "6:\"Neutral\",\n",
    "7:\"Little_disagree\",\n",
    "8:\"Somewhat_disagree\",\n",
    "9:\"Disagree\",\n",
    "10:\"Strongly_disagree\"\n",
    "},    \n",
    "    \n",
    "'Cashback_satifaction':{\n",
    "1:\"Strongly_Agree\", \n",
    "2:\"Agree\",\n",
    "3:\"Avaragely_Agree\",\n",
    "4:\"Somewhat_Agree\",\n",
    "5:\"Little_Agree\",\n",
    "6:\"Neutral\",\n",
    "7:\"Little_disagree\",\n",
    "8:\"Somewhat_disagree\",\n",
    "9:\"Disagree\",\n",
    "10:\"Strongly_disagree\"\n",
    "},\n",
    "'Age_group':{\n",
    "1:\"18–29years\", \n",
    "2:\"30–39years\",\n",
    "3: \"40–49years\",\n",
    "4:\"50–59years\",\n",
    "5:\">= 60 years\"\n",
    "}\n",
    "}"
   ]
  },
  {
   "cell_type": "code",
   "execution_count": 74,
   "id": "a9268dfa-8286-4dad-84bd-e7f9e9b5b200",
   "metadata": {},
   "outputs": [
    {
     "data": {
      "text/plain": [
       "Index(['ID', 'Gender', 'Age_group', 'service_satifaction',\n",
       "       'Helpline_Assistance', 'Waiting_period', 'VerificationSatifaction',\n",
       "       'Foodpackaging', 'Cashback_satifaction'],\n",
       "      dtype='object')"
      ]
     },
     "execution_count": 74,
     "metadata": {},
     "output_type": "execute_result"
    }
   ],
   "source": [
    "data.columns"
   ]
  },
  {
   "cell_type": "code",
   "execution_count": null,
   "id": "7c8461ae-dc5a-44fb-8211-ef27b4b29be2",
   "metadata": {},
   "outputs": [],
   "source": []
  },
  {
   "cell_type": "code",
   "execution_count": 88,
   "id": "49829190-4dc2-4bca-8841-13c729ae5779",
   "metadata": {},
   "outputs": [
    {
     "data": {
      "text/html": [
       "<div>\n",
       "<style scoped>\n",
       "    .dataframe tbody tr th:only-of-type {\n",
       "        vertical-align: middle;\n",
       "    }\n",
       "\n",
       "    .dataframe tbody tr th {\n",
       "        vertical-align: top;\n",
       "    }\n",
       "\n",
       "    .dataframe thead th {\n",
       "        text-align: right;\n",
       "    }\n",
       "</style>\n",
       "<table border=\"1\" class=\"dataframe\">\n",
       "  <thead>\n",
       "    <tr style=\"text-align: right;\">\n",
       "      <th></th>\n",
       "      <th>ID</th>\n",
       "      <th>Gender</th>\n",
       "      <th>Age_group</th>\n",
       "      <th>service_satifaction</th>\n",
       "      <th>Helpline_Assistance</th>\n",
       "      <th>Waiting_period</th>\n",
       "      <th>VerificationSatifaction</th>\n",
       "      <th>Foodpackaging</th>\n",
       "      <th>Cashback_satifaction</th>\n",
       "    </tr>\n",
       "  </thead>\n",
       "  <tbody>\n",
       "    <tr>\n",
       "      <th>0</th>\n",
       "      <td>1</td>\n",
       "      <td>Male</td>\n",
       "      <td>50–59years</td>\n",
       "      <td>Agree</td>\n",
       "      <td>Somewhat_disagree</td>\n",
       "      <td>Disagree</td>\n",
       "      <td>Strongly_disagree</td>\n",
       "      <td>Strongly_disagree</td>\n",
       "      <td>Strongly_Agree</td>\n",
       "    </tr>\n",
       "    <tr>\n",
       "      <th>1</th>\n",
       "      <td>2</td>\n",
       "      <td>Male</td>\n",
       "      <td>&gt;= 60 years</td>\n",
       "      <td>Avaragely_Agree</td>\n",
       "      <td>Disagree</td>\n",
       "      <td>Neutral</td>\n",
       "      <td>Strongly_disagree</td>\n",
       "      <td>Disagree</td>\n",
       "      <td>Strongly_Agree</td>\n",
       "    </tr>\n",
       "    <tr>\n",
       "      <th>2</th>\n",
       "      <td>3</td>\n",
       "      <td>Male</td>\n",
       "      <td>50–59years</td>\n",
       "      <td>Avaragely_Agree</td>\n",
       "      <td>Little_disagree</td>\n",
       "      <td>Somewhat_disagree</td>\n",
       "      <td>Disagree</td>\n",
       "      <td>Somewhat_disagree</td>\n",
       "      <td>Agree</td>\n",
       "    </tr>\n",
       "    <tr>\n",
       "      <th>3</th>\n",
       "      <td>4</td>\n",
       "      <td>Male</td>\n",
       "      <td>18–29years</td>\n",
       "      <td>Strongly_Agree</td>\n",
       "      <td>Little_disagree</td>\n",
       "      <td>Somewhat_disagree</td>\n",
       "      <td>Disagree</td>\n",
       "      <td>Somewhat_disagree</td>\n",
       "      <td>Neutral</td>\n",
       "    </tr>\n",
       "    <tr>\n",
       "      <th>4</th>\n",
       "      <td>5</td>\n",
       "      <td>Male</td>\n",
       "      <td>18–29years</td>\n",
       "      <td>Somewhat_Agree</td>\n",
       "      <td>Somewhat_disagree</td>\n",
       "      <td>Disagree</td>\n",
       "      <td>Strongly_disagree</td>\n",
       "      <td>Strongly_disagree</td>\n",
       "      <td>Strongly_Agree</td>\n",
       "    </tr>\n",
       "  </tbody>\n",
       "</table>\n",
       "</div>"
      ],
      "text/plain": [
       "   ID Gender    Age_group service_satifaction Helpline_Assistance  \\\n",
       "0   1   Male   50–59years               Agree   Somewhat_disagree   \n",
       "1   2   Male  >= 60 years     Avaragely_Agree            Disagree   \n",
       "2   3   Male   50–59years     Avaragely_Agree     Little_disagree   \n",
       "3   4   Male   18–29years      Strongly_Agree     Little_disagree   \n",
       "4   5   Male   18–29years      Somewhat_Agree   Somewhat_disagree   \n",
       "\n",
       "      Waiting_period VerificationSatifaction      Foodpackaging  \\\n",
       "0           Disagree       Strongly_disagree  Strongly_disagree   \n",
       "1            Neutral       Strongly_disagree           Disagree   \n",
       "2  Somewhat_disagree                Disagree  Somewhat_disagree   \n",
       "3  Somewhat_disagree                Disagree  Somewhat_disagree   \n",
       "4           Disagree       Strongly_disagree  Strongly_disagree   \n",
       "\n",
       "  Cashback_satifaction  \n",
       "0       Strongly_Agree  \n",
       "1       Strongly_Agree  \n",
       "2                Agree  \n",
       "3              Neutral  \n",
       "4       Strongly_Agree  "
      ]
     },
     "execution_count": 88,
     "metadata": {},
     "output_type": "execute_result"
    }
   ],
   "source": [
    "df=data.replace(changes)\n",
    "df.head()"
   ]
  },
  {
   "cell_type": "code",
   "execution_count": 90,
   "id": "c41b650d-0bce-44f6-85cd-909f180cdb12",
   "metadata": {},
   "outputs": [
    {
     "data": {
      "text/plain": [
       "40–49years     92\n",
       "30–39years     89\n",
       "18–29years     83\n",
       "50–59years     55\n",
       ">= 60 years    31\n",
       "Name: Age_group, dtype: int64"
      ]
     },
     "execution_count": 90,
     "metadata": {},
     "output_type": "execute_result"
    }
   ],
   "source": [
    "df.Age_group.value_counts()"
   ]
  },
  {
   "cell_type": "code",
   "execution_count": 91,
   "id": "386a3908-96e7-4722-b7ae-598782b54615",
   "metadata": {},
   "outputs": [],
   "source": [
    "data=df"
   ]
  },
  {
   "cell_type": "code",
   "execution_count": 92,
   "id": "7de65041-4be7-408f-9180-9220ac722d5e",
   "metadata": {},
   "outputs": [
    {
     "data": {
      "text/plain": [
       "Neutral              74\n",
       "Little_Agree         56\n",
       "Somewhat_Agree       43\n",
       "Somewhat_disagree    39\n",
       "Agree                34\n",
       "Little_disagree      34\n",
       "Strongly_Agree       28\n",
       "Avaragely_Agree      27\n",
       "Disagree             12\n",
       "Strongly_disagree     3\n",
       "Name: Cashback_satifaction, dtype: int64"
      ]
     },
     "execution_count": 92,
     "metadata": {},
     "output_type": "execute_result"
    }
   ],
   "source": [
    "data.Cashback_satifaction.value_counts()"
   ]
  },
  {
   "cell_type": "code",
   "execution_count": 93,
   "id": "95662d77-0ed3-470b-ba81-56d746867456",
   "metadata": {},
   "outputs": [
    {
     "data": {
      "text/plain": [
       "Disagree             92\n",
       "Neutral              70\n",
       "Somewhat_disagree    70\n",
       "Little_Agree         48\n",
       "Little_disagree      24\n",
       "Agree                21\n",
       "Avaragely_Agree      15\n",
       "Somewhat_Agree        7\n",
       "Strongly_disagree     3\n",
       "Name: VerificationSatifaction, dtype: int64"
      ]
     },
     "execution_count": 93,
     "metadata": {},
     "output_type": "execute_result"
    }
   ],
   "source": [
    "data.VerificationSatifaction.value_counts()"
   ]
  },
  {
   "cell_type": "code",
   "execution_count": 94,
   "id": "637d3f0d-a591-4b9c-b795-3cefb70f46f7",
   "metadata": {},
   "outputs": [
    {
     "data": {
      "text/plain": [
       "Neutral              168\n",
       "Little_disagree       62\n",
       "Little_Agree          57\n",
       "Strongly_Agree        23\n",
       "Avaragely_Agree       11\n",
       "Agree                  9\n",
       "Strongly_disagree      7\n",
       "Somewhat_disagree      5\n",
       "Disagree               4\n",
       "Somewhat_Agree         4\n",
       "Name: Foodpackaging, dtype: int64"
      ]
     },
     "execution_count": 94,
     "metadata": {},
     "output_type": "execute_result"
    }
   ],
   "source": [
    "data.Foodpackaging.value_counts()"
   ]
  },
  {
   "cell_type": "code",
   "execution_count": 95,
   "id": "7fa394ad-9d5b-43ec-9afb-13188c96aa4b",
   "metadata": {},
   "outputs": [
    {
     "data": {
      "text/plain": [
       "Little_Agree         140\n",
       "Somewhat_disagree     81\n",
       "Neutral               51\n",
       "Little_disagree       47\n",
       "Strongly_Agree        10\n",
       "Agree                  8\n",
       "Avaragely_Agree        6\n",
       "Disagree               4\n",
       "Somewhat_Agree         3\n",
       "Name: Waiting_period, dtype: int64"
      ]
     },
     "execution_count": 95,
     "metadata": {},
     "output_type": "execute_result"
    }
   ],
   "source": [
    "data.Waiting_period.value_counts()"
   ]
  },
  {
   "cell_type": "code",
   "execution_count": 96,
   "id": "58763b69-deb3-4323-8e42-eecfeb1e8ee1",
   "metadata": {},
   "outputs": [
    {
     "data": {
      "text/plain": [
       "Little_Agree       62\n",
       "Agree              60\n",
       "Strongly_Agree     59\n",
       "Somewhat_Agree     59\n",
       "Avaragely_Agree    45\n",
       "Little_disagree    38\n",
       "Neutral            27\n",
       "Name: service_satifaction, dtype: int64"
      ]
     },
     "execution_count": 96,
     "metadata": {},
     "output_type": "execute_result"
    }
   ],
   "source": [
    "data.service_satifaction.value_counts()"
   ]
  },
  {
   "cell_type": "code",
   "execution_count": 97,
   "id": "64856f22-a752-4193-8f0a-33b46ea1f3c4",
   "metadata": {},
   "outputs": [
    {
     "data": {
      "text/plain": [
       "Little_disagree      93\n",
       "Little_Agree         80\n",
       "Somewhat_disagree    61\n",
       "Neutral              53\n",
       "Somewhat_Agree       36\n",
       "Avaragely_Agree      12\n",
       "Agree                 6\n",
       "Strongly_Agree        5\n",
       "Disagree              4\n",
       "Name: Helpline_Assistance, dtype: int64"
      ]
     },
     "execution_count": 97,
     "metadata": {},
     "output_type": "execute_result"
    }
   ],
   "source": [
    "data.Helpline_Assistance.value_counts()"
   ]
  },
  {
   "cell_type": "code",
   "execution_count": null,
   "id": "bbbb25ce-7d7e-466c-bcbc-ba4b981824ba",
   "metadata": {},
   "outputs": [],
   "source": []
  },
  {
   "cell_type": "markdown",
   "id": "3dd33f92-6d8e-49bb-9adb-0c5f70be5064",
   "metadata": {},
   "source": [
    "## value count plots"
   ]
  },
  {
   "cell_type": "code",
   "execution_count": 98,
   "id": "d40b4b23-7834-4c09-868b-a9a20d2fafe4",
   "metadata": {},
   "outputs": [
    {
     "data": {
      "text/plain": [
       "<AxesSubplot:>"
      ]
     },
     "execution_count": 98,
     "metadata": {},
     "output_type": "execute_result"
    },
    {
     "data": {
      "image/png": "[encoded data removed]",
      "text/plain": [
       "<Figure size 432x288 with 1 Axes>"
      ]
     },
     "metadata": {
      "needs_background": "light"
     },
     "output_type": "display_data"
    }
   ],
   "source": [
    "data.service_satifaction.value_counts().sort_index(ascending=False).plot(kind='barh')"
   ]
  },
  {
   "cell_type": "code",
   "execution_count": 99,
   "id": "05f39d75-9a26-48ed-9912-fe3bc3394b9d",
   "metadata": {},
   "outputs": [
    {
     "data": {
      "text/plain": [
       "<AxesSubplot:>"
      ]
     },
     "execution_count": 99,
     "metadata": {},
     "output_type": "execute_result"
    },
    {
     "data": {
      "image/png": "[encoded data removed]",
      "text/plain": [
       "<Figure size 432x288 with 1 Axes>"
      ]
     },
     "metadata": {
      "needs_background": "light"
     },
     "output_type": "display_data"
    }
   ],
   "source": [
    "data.Helpline_Assistance.value_counts().sort_index(ascending=True).plot(kind='barh')"
   ]
  },
  {
   "cell_type": "markdown",
   "id": "63300317-9bdb-48eb-8e4f-b7e796212557",
   "metadata": {},
   "source": [
    "## group by and pivot table analysis"
   ]
  },
  {
   "cell_type": "code",
   "execution_count": 52,
   "id": "f540621e-017c-4769-8deb-3ad0ba7738c1",
   "metadata": {},
   "outputs": [
    {
     "data": {
      "text/html": [
       "<div>\n",
       "<style scoped>\n",
       "    .dataframe tbody tr th:only-of-type {\n",
       "        vertical-align: middle;\n",
       "    }\n",
       "\n",
       "    .dataframe tbody tr th {\n",
       "        vertical-align: top;\n",
       "    }\n",
       "\n",
       "    .dataframe thead th {\n",
       "        text-align: right;\n",
       "    }\n",
       "</style>\n",
       "<table border=\"1\" class=\"dataframe\">\n",
       "  <thead>\n",
       "    <tr style=\"text-align: right;\">\n",
       "      <th>Helpline_Assistance</th>\n",
       "      <th>1</th>\n",
       "      <th>2</th>\n",
       "      <th>3</th>\n",
       "      <th>4</th>\n",
       "      <th>5</th>\n",
       "      <th>6</th>\n",
       "      <th>7</th>\n",
       "      <th>8</th>\n",
       "      <th>9</th>\n",
       "    </tr>\n",
       "    <tr>\n",
       "      <th>Gender</th>\n",
       "      <th></th>\n",
       "      <th></th>\n",
       "      <th></th>\n",
       "      <th></th>\n",
       "      <th></th>\n",
       "      <th></th>\n",
       "      <th></th>\n",
       "      <th></th>\n",
       "      <th></th>\n",
       "    </tr>\n",
       "  </thead>\n",
       "  <tbody>\n",
       "    <tr>\n",
       "      <th>Female</th>\n",
       "      <td>2.8</td>\n",
       "      <td>3.0</td>\n",
       "      <td>3.888889</td>\n",
       "      <td>3.392857</td>\n",
       "      <td>3.685185</td>\n",
       "      <td>4.260870</td>\n",
       "      <td>3.571429</td>\n",
       "      <td>3.60000</td>\n",
       "      <td>4.000000</td>\n",
       "    </tr>\n",
       "    <tr>\n",
       "      <th>Male</th>\n",
       "      <td>NaN</td>\n",
       "      <td>2.5</td>\n",
       "      <td>4.000000</td>\n",
       "      <td>4.125000</td>\n",
       "      <td>4.346154</td>\n",
       "      <td>3.633333</td>\n",
       "      <td>3.352941</td>\n",
       "      <td>3.83871</td>\n",
       "      <td>3.666667</td>\n",
       "    </tr>\n",
       "  </tbody>\n",
       "</table>\n",
       "</div>"
      ],
      "text/plain": [
       "Helpline_Assistance    1    2         3         4         5         6  \\\n",
       "Gender                                                                  \n",
       "Female               2.8  3.0  3.888889  3.392857  3.685185  4.260870   \n",
       "Male                 NaN  2.5  4.000000  4.125000  4.346154  3.633333   \n",
       "\n",
       "Helpline_Assistance         7        8         9  \n",
       "Gender                                            \n",
       "Female               3.571429  3.60000  4.000000  \n",
       "Male                 3.352941  3.83871  3.666667  "
      ]
     },
     "execution_count": 52,
     "metadata": {},
     "output_type": "execute_result"
    }
   ],
   "source": [
    "data.groupby(['Gender', 'Helpline_Assistance'])['service_satifaction'].aggregate('mean').unstack()"
   ]
  },
  {
   "cell_type": "code",
   "execution_count": null,
   "id": "1e10d8c0-785d-4fc1-8df9-bcaa5baa42eb",
   "metadata": {},
   "outputs": [],
   "source": []
  },
  {
   "cell_type": "code",
   "execution_count": 54,
   "id": "10847825-8835-4e86-b687-754e20dda8ca",
   "metadata": {},
   "outputs": [
    {
     "data": {
      "text/html": [
       "<div>\n",
       "<style scoped>\n",
       "    .dataframe tbody tr th:only-of-type {\n",
       "        vertical-align: middle;\n",
       "    }\n",
       "\n",
       "    .dataframe tbody tr th {\n",
       "        vertical-align: top;\n",
       "    }\n",
       "\n",
       "    .dataframe thead tr th {\n",
       "        text-align: left;\n",
       "    }\n",
       "\n",
       "    .dataframe thead tr:last-of-type th {\n",
       "        text-align: right;\n",
       "    }\n",
       "</style>\n",
       "<table border=\"1\" class=\"dataframe\">\n",
       "  <thead>\n",
       "    <tr>\n",
       "      <th></th>\n",
       "      <th colspan=\"7\" halign=\"left\">ID</th>\n",
       "      <th colspan=\"7\" halign=\"left\">Waiting_period</th>\n",
       "    </tr>\n",
       "    <tr>\n",
       "      <th>service_satifaction</th>\n",
       "      <th>1</th>\n",
       "      <th>2</th>\n",
       "      <th>3</th>\n",
       "      <th>4</th>\n",
       "      <th>5</th>\n",
       "      <th>6</th>\n",
       "      <th>7</th>\n",
       "      <th>1</th>\n",
       "      <th>2</th>\n",
       "      <th>3</th>\n",
       "      <th>4</th>\n",
       "      <th>5</th>\n",
       "      <th>6</th>\n",
       "      <th>7</th>\n",
       "    </tr>\n",
       "    <tr>\n",
       "      <th>Foodpackaging</th>\n",
       "      <th></th>\n",
       "      <th></th>\n",
       "      <th></th>\n",
       "      <th></th>\n",
       "      <th></th>\n",
       "      <th></th>\n",
       "      <th></th>\n",
       "      <th></th>\n",
       "      <th></th>\n",
       "      <th></th>\n",
       "      <th></th>\n",
       "      <th></th>\n",
       "      <th></th>\n",
       "      <th></th>\n",
       "    </tr>\n",
       "  </thead>\n",
       "  <tbody>\n",
       "    <tr>\n",
       "      <th>1</th>\n",
       "      <td>275.625000</td>\n",
       "      <td>350.000000</td>\n",
       "      <td>257.000000</td>\n",
       "      <td>266.666667</td>\n",
       "      <td>265.600000</td>\n",
       "      <td>NaN</td>\n",
       "      <td>301.250000</td>\n",
       "      <td>24.0</td>\n",
       "      <td>1.0</td>\n",
       "      <td>8.0</td>\n",
       "      <td>13.0</td>\n",
       "      <td>20.0</td>\n",
       "      <td>NaN</td>\n",
       "      <td>10.0</td>\n",
       "    </tr>\n",
       "    <tr>\n",
       "      <th>2</th>\n",
       "      <td>261.000000</td>\n",
       "      <td>267.500000</td>\n",
       "      <td>218.000000</td>\n",
       "      <td>269.000000</td>\n",
       "      <td>216.000000</td>\n",
       "      <td>329.000000</td>\n",
       "      <td>NaN</td>\n",
       "      <td>8.0</td>\n",
       "      <td>4.0</td>\n",
       "      <td>6.0</td>\n",
       "      <td>2.0</td>\n",
       "      <td>12.0</td>\n",
       "      <td>2.0</td>\n",
       "      <td>NaN</td>\n",
       "    </tr>\n",
       "    <tr>\n",
       "      <th>3</th>\n",
       "      <td>205.500000</td>\n",
       "      <td>277.000000</td>\n",
       "      <td>NaN</td>\n",
       "      <td>280.500000</td>\n",
       "      <td>245.666667</td>\n",
       "      <td>247.000000</td>\n",
       "      <td>337.000000</td>\n",
       "      <td>12.0</td>\n",
       "      <td>3.0</td>\n",
       "      <td>NaN</td>\n",
       "      <td>9.0</td>\n",
       "      <td>12.0</td>\n",
       "      <td>6.0</td>\n",
       "      <td>6.0</td>\n",
       "    </tr>\n",
       "    <tr>\n",
       "      <th>4</th>\n",
       "      <td>NaN</td>\n",
       "      <td>210.000000</td>\n",
       "      <td>316.000000</td>\n",
       "      <td>275.000000</td>\n",
       "      <td>NaN</td>\n",
       "      <td>NaN</td>\n",
       "      <td>NaN</td>\n",
       "      <td>NaN</td>\n",
       "      <td>5.0</td>\n",
       "      <td>4.0</td>\n",
       "      <td>8.0</td>\n",
       "      <td>NaN</td>\n",
       "      <td>NaN</td>\n",
       "      <td>NaN</td>\n",
       "    </tr>\n",
       "    <tr>\n",
       "      <th>5</th>\n",
       "      <td>94.692308</td>\n",
       "      <td>193.666667</td>\n",
       "      <td>137.000000</td>\n",
       "      <td>141.769231</td>\n",
       "      <td>126.600000</td>\n",
       "      <td>157.000000</td>\n",
       "      <td>91.833333</td>\n",
       "      <td>66.0</td>\n",
       "      <td>30.0</td>\n",
       "      <td>32.0</td>\n",
       "      <td>70.0</td>\n",
       "      <td>51.0</td>\n",
       "      <td>16.0</td>\n",
       "      <td>32.0</td>\n",
       "    </tr>\n",
       "    <tr>\n",
       "      <th>6</th>\n",
       "      <td>194.375000</td>\n",
       "      <td>181.083333</td>\n",
       "      <td>182.884615</td>\n",
       "      <td>175.304348</td>\n",
       "      <td>186.208333</td>\n",
       "      <td>183.923077</td>\n",
       "      <td>216.681818</td>\n",
       "      <td>163.0</td>\n",
       "      <td>234.0</td>\n",
       "      <td>155.0</td>\n",
       "      <td>132.0</td>\n",
       "      <td>160.0</td>\n",
       "      <td>77.0</td>\n",
       "      <td>126.0</td>\n",
       "    </tr>\n",
       "    <tr>\n",
       "      <th>7</th>\n",
       "      <td>122.888889</td>\n",
       "      <td>155.800000</td>\n",
       "      <td>148.285714</td>\n",
       "      <td>184.000000</td>\n",
       "      <td>158.800000</td>\n",
       "      <td>172.571429</td>\n",
       "      <td>58.000000</td>\n",
       "      <td>64.0</td>\n",
       "      <td>71.0</td>\n",
       "      <td>49.0</td>\n",
       "      <td>78.0</td>\n",
       "      <td>108.0</td>\n",
       "      <td>50.0</td>\n",
       "      <td>21.0</td>\n",
       "    </tr>\n",
       "    <tr>\n",
       "      <th>8</th>\n",
       "      <td>4.000000</td>\n",
       "      <td>NaN</td>\n",
       "      <td>3.000000</td>\n",
       "      <td>15.000000</td>\n",
       "      <td>NaN</td>\n",
       "      <td>18.000000</td>\n",
       "      <td>8.000000</td>\n",
       "      <td>8.0</td>\n",
       "      <td>NaN</td>\n",
       "      <td>8.0</td>\n",
       "      <td>8.0</td>\n",
       "      <td>NaN</td>\n",
       "      <td>8.0</td>\n",
       "      <td>8.0</td>\n",
       "    </tr>\n",
       "    <tr>\n",
       "      <th>9</th>\n",
       "      <td>NaN</td>\n",
       "      <td>77.000000</td>\n",
       "      <td>2.000000</td>\n",
       "      <td>30.000000</td>\n",
       "      <td>NaN</td>\n",
       "      <td>7.000000</td>\n",
       "      <td>NaN</td>\n",
       "      <td>NaN</td>\n",
       "      <td>6.0</td>\n",
       "      <td>6.0</td>\n",
       "      <td>6.0</td>\n",
       "      <td>NaN</td>\n",
       "      <td>6.0</td>\n",
       "      <td>NaN</td>\n",
       "    </tr>\n",
       "    <tr>\n",
       "      <th>10</th>\n",
       "      <td>NaN</td>\n",
       "      <td>7.000000</td>\n",
       "      <td>NaN</td>\n",
       "      <td>28.500000</td>\n",
       "      <td>22.000000</td>\n",
       "      <td>NaN</td>\n",
       "      <td>NaN</td>\n",
       "      <td>NaN</td>\n",
       "      <td>18.0</td>\n",
       "      <td>NaN</td>\n",
       "      <td>14.0</td>\n",
       "      <td>19.0</td>\n",
       "      <td>NaN</td>\n",
       "      <td>NaN</td>\n",
       "    </tr>\n",
       "  </tbody>\n",
       "</table>\n",
       "</div>"
      ],
      "text/plain": [
       "                             ID                                      \\\n",
       "service_satifaction           1           2           3           4   \n",
       "Foodpackaging                                                         \n",
       "1                    275.625000  350.000000  257.000000  266.666667   \n",
       "2                    261.000000  267.500000  218.000000  269.000000   \n",
       "3                    205.500000  277.000000         NaN  280.500000   \n",
       "4                           NaN  210.000000  316.000000  275.000000   \n",
       "5                     94.692308  193.666667  137.000000  141.769231   \n",
       "6                    194.375000  181.083333  182.884615  175.304348   \n",
       "7                    122.888889  155.800000  148.285714  184.000000   \n",
       "8                      4.000000         NaN    3.000000   15.000000   \n",
       "9                           NaN   77.000000    2.000000   30.000000   \n",
       "10                          NaN    7.000000         NaN   28.500000   \n",
       "\n",
       "                                                        Waiting_period         \\\n",
       "service_satifaction           5           6           7              1      2   \n",
       "Foodpackaging                                                                   \n",
       "1                    265.600000         NaN  301.250000           24.0    1.0   \n",
       "2                    216.000000  329.000000         NaN            8.0    4.0   \n",
       "3                    245.666667  247.000000  337.000000           12.0    3.0   \n",
       "4                           NaN         NaN         NaN            NaN    5.0   \n",
       "5                    126.600000  157.000000   91.833333           66.0   30.0   \n",
       "6                    186.208333  183.923077  216.681818          163.0  234.0   \n",
       "7                    158.800000  172.571429   58.000000           64.0   71.0   \n",
       "8                           NaN   18.000000    8.000000            8.0    NaN   \n",
       "9                           NaN    7.000000         NaN            NaN    6.0   \n",
       "10                    22.000000         NaN         NaN            NaN   18.0   \n",
       "\n",
       "                                                       \n",
       "service_satifaction      3      4      5     6      7  \n",
       "Foodpackaging                                          \n",
       "1                      8.0   13.0   20.0   NaN   10.0  \n",
       "2                      6.0    2.0   12.0   2.0    NaN  \n",
       "3                      NaN    9.0   12.0   6.0    6.0  \n",
       "4                      4.0    8.0    NaN   NaN    NaN  \n",
       "5                     32.0   70.0   51.0  16.0   32.0  \n",
       "6                    155.0  132.0  160.0  77.0  126.0  \n",
       "7                     49.0   78.0  108.0  50.0   21.0  \n",
       "8                      8.0    8.0    NaN   8.0    8.0  \n",
       "9                      6.0    6.0    NaN   6.0    NaN  \n",
       "10                     NaN   14.0   19.0   NaN    NaN  "
      ]
     },
     "execution_count": 54,
     "metadata": {},
     "output_type": "execute_result"
    }
   ],
   "source": [
    "data.pivot_table(index='Foodpackaging', columns='service_satifaction',\n",
    "                    aggfunc={'Waiting_period':sum, 'ID':'mean'})"
   ]
  },
  {
   "cell_type": "code",
   "execution_count": null,
   "id": "53cf9ca3-6770-44e9-9d08-447f246b3468",
   "metadata": {},
   "outputs": [],
   "source": []
  },
  {
   "cell_type": "code",
   "execution_count": 56,
   "id": "8fce37c4-b0c6-483a-8f86-3516ecd470dc",
   "metadata": {},
   "outputs": [
    {
     "data": {
      "text/html": [
       "<div>\n",
       "<style scoped>\n",
       "    .dataframe tbody tr th:only-of-type {\n",
       "        vertical-align: middle;\n",
       "    }\n",
       "\n",
       "    .dataframe tbody tr th {\n",
       "        vertical-align: top;\n",
       "    }\n",
       "\n",
       "    .dataframe thead th {\n",
       "        text-align: right;\n",
       "    }\n",
       "</style>\n",
       "<table border=\"1\" class=\"dataframe\">\n",
       "  <thead>\n",
       "    <tr style=\"text-align: right;\">\n",
       "      <th></th>\n",
       "      <th></th>\n",
       "      <th>Cashback_satifaction</th>\n",
       "      <th>1</th>\n",
       "      <th>2</th>\n",
       "      <th>3</th>\n",
       "      <th>4</th>\n",
       "      <th>5</th>\n",
       "      <th>6</th>\n",
       "      <th>7</th>\n",
       "      <th>8</th>\n",
       "      <th>9</th>\n",
       "      <th>10</th>\n",
       "    </tr>\n",
       "    <tr>\n",
       "      <th>Gender</th>\n",
       "      <th>Age_group</th>\n",
       "      <th>Helpline_Assistance</th>\n",
       "      <th></th>\n",
       "      <th></th>\n",
       "      <th></th>\n",
       "      <th></th>\n",
       "      <th></th>\n",
       "      <th></th>\n",
       "      <th></th>\n",
       "      <th></th>\n",
       "      <th></th>\n",
       "      <th></th>\n",
       "    </tr>\n",
       "  </thead>\n",
       "  <tbody>\n",
       "    <tr>\n",
       "      <th rowspan=\"5\" valign=\"top\">Female</th>\n",
       "      <th rowspan=\"5\" valign=\"top\">1</th>\n",
       "      <th>1</th>\n",
       "      <td>NaN</td>\n",
       "      <td>NaN</td>\n",
       "      <td>NaN</td>\n",
       "      <td>NaN</td>\n",
       "      <td>NaN</td>\n",
       "      <td>2.8</td>\n",
       "      <td>NaN</td>\n",
       "      <td>NaN</td>\n",
       "      <td>NaN</td>\n",
       "      <td>NaN</td>\n",
       "    </tr>\n",
       "    <tr>\n",
       "      <th>2</th>\n",
       "      <td>NaN</td>\n",
       "      <td>NaN</td>\n",
       "      <td>NaN</td>\n",
       "      <td>NaN</td>\n",
       "      <td>2.0</td>\n",
       "      <td>5.0</td>\n",
       "      <td>NaN</td>\n",
       "      <td>2.000000</td>\n",
       "      <td>NaN</td>\n",
       "      <td>NaN</td>\n",
       "    </tr>\n",
       "    <tr>\n",
       "      <th>3</th>\n",
       "      <td>NaN</td>\n",
       "      <td>NaN</td>\n",
       "      <td>NaN</td>\n",
       "      <td>NaN</td>\n",
       "      <td>NaN</td>\n",
       "      <td>3.0</td>\n",
       "      <td>NaN</td>\n",
       "      <td>5.000000</td>\n",
       "      <td>NaN</td>\n",
       "      <td>NaN</td>\n",
       "    </tr>\n",
       "    <tr>\n",
       "      <th>5</th>\n",
       "      <td>NaN</td>\n",
       "      <td>NaN</td>\n",
       "      <td>NaN</td>\n",
       "      <td>3.500000</td>\n",
       "      <td>3.4</td>\n",
       "      <td>NaN</td>\n",
       "      <td>NaN</td>\n",
       "      <td>2.000000</td>\n",
       "      <td>4.333333</td>\n",
       "      <td>NaN</td>\n",
       "    </tr>\n",
       "    <tr>\n",
       "      <th>6</th>\n",
       "      <td>NaN</td>\n",
       "      <td>NaN</td>\n",
       "      <td>NaN</td>\n",
       "      <td>3.000000</td>\n",
       "      <td>6.0</td>\n",
       "      <td>NaN</td>\n",
       "      <td>7.0</td>\n",
       "      <td>3.666667</td>\n",
       "      <td>NaN</td>\n",
       "      <td>NaN</td>\n",
       "    </tr>\n",
       "    <tr>\n",
       "      <th>...</th>\n",
       "      <th>...</th>\n",
       "      <th>...</th>\n",
       "      <td>...</td>\n",
       "      <td>...</td>\n",
       "      <td>...</td>\n",
       "      <td>...</td>\n",
       "      <td>...</td>\n",
       "      <td>...</td>\n",
       "      <td>...</td>\n",
       "      <td>...</td>\n",
       "      <td>...</td>\n",
       "      <td>...</td>\n",
       "    </tr>\n",
       "    <tr>\n",
       "      <th rowspan=\"5\" valign=\"top\">Male</th>\n",
       "      <th rowspan=\"5\" valign=\"top\">5</th>\n",
       "      <th>5</th>\n",
       "      <td>NaN</td>\n",
       "      <td>NaN</td>\n",
       "      <td>NaN</td>\n",
       "      <td>5.000000</td>\n",
       "      <td>NaN</td>\n",
       "      <td>NaN</td>\n",
       "      <td>NaN</td>\n",
       "      <td>NaN</td>\n",
       "      <td>7.000000</td>\n",
       "      <td>NaN</td>\n",
       "    </tr>\n",
       "    <tr>\n",
       "      <th>6</th>\n",
       "      <td>NaN</td>\n",
       "      <td>NaN</td>\n",
       "      <td>NaN</td>\n",
       "      <td>3.333333</td>\n",
       "      <td>NaN</td>\n",
       "      <td>NaN</td>\n",
       "      <td>NaN</td>\n",
       "      <td>NaN</td>\n",
       "      <td>NaN</td>\n",
       "      <td>NaN</td>\n",
       "    </tr>\n",
       "    <tr>\n",
       "      <th>7</th>\n",
       "      <td>NaN</td>\n",
       "      <td>3.0</td>\n",
       "      <td>3.0</td>\n",
       "      <td>NaN</td>\n",
       "      <td>NaN</td>\n",
       "      <td>NaN</td>\n",
       "      <td>2.0</td>\n",
       "      <td>NaN</td>\n",
       "      <td>NaN</td>\n",
       "      <td>NaN</td>\n",
       "    </tr>\n",
       "    <tr>\n",
       "      <th>8</th>\n",
       "      <td>3.5</td>\n",
       "      <td>4.0</td>\n",
       "      <td>NaN</td>\n",
       "      <td>NaN</td>\n",
       "      <td>NaN</td>\n",
       "      <td>NaN</td>\n",
       "      <td>NaN</td>\n",
       "      <td>NaN</td>\n",
       "      <td>NaN</td>\n",
       "      <td>NaN</td>\n",
       "    </tr>\n",
       "    <tr>\n",
       "      <th>9</th>\n",
       "      <td>3.0</td>\n",
       "      <td>NaN</td>\n",
       "      <td>NaN</td>\n",
       "      <td>NaN</td>\n",
       "      <td>NaN</td>\n",
       "      <td>NaN</td>\n",
       "      <td>NaN</td>\n",
       "      <td>NaN</td>\n",
       "      <td>NaN</td>\n",
       "      <td>NaN</td>\n",
       "    </tr>\n",
       "  </tbody>\n",
       "</table>\n",
       "<p>61 rows × 10 columns</p>\n",
       "</div>"
      ],
      "text/plain": [
       "Cashback_satifaction                   1    2    3         4    5    6    7   \\\n",
       "Gender Age_group Helpline_Assistance                                           \n",
       "Female 1         1                    NaN  NaN  NaN       NaN  NaN  2.8  NaN   \n",
       "                 2                    NaN  NaN  NaN       NaN  2.0  5.0  NaN   \n",
       "                 3                    NaN  NaN  NaN       NaN  NaN  3.0  NaN   \n",
       "                 5                    NaN  NaN  NaN  3.500000  3.4  NaN  NaN   \n",
       "                 6                    NaN  NaN  NaN  3.000000  6.0  NaN  7.0   \n",
       "...                                   ...  ...  ...       ...  ...  ...  ...   \n",
       "Male   5         5                    NaN  NaN  NaN  5.000000  NaN  NaN  NaN   \n",
       "                 6                    NaN  NaN  NaN  3.333333  NaN  NaN  NaN   \n",
       "                 7                    NaN  3.0  3.0       NaN  NaN  NaN  2.0   \n",
       "                 8                    3.5  4.0  NaN       NaN  NaN  NaN  NaN   \n",
       "                 9                    3.0  NaN  NaN       NaN  NaN  NaN  NaN   \n",
       "\n",
       "Cashback_satifaction                        8         9   10  \n",
       "Gender Age_group Helpline_Assistance                          \n",
       "Female 1         1                         NaN       NaN NaN  \n",
       "                 2                    2.000000       NaN NaN  \n",
       "                 3                    5.000000       NaN NaN  \n",
       "                 5                    2.000000  4.333333 NaN  \n",
       "                 6                    3.666667       NaN NaN  \n",
       "...                                        ...       ...  ..  \n",
       "Male   5         5                         NaN  7.000000 NaN  \n",
       "                 6                         NaN       NaN NaN  \n",
       "                 7                         NaN       NaN NaN  \n",
       "                 8                         NaN       NaN NaN  \n",
       "                 9                         NaN       NaN NaN  \n",
       "\n",
       "[61 rows x 10 columns]"
      ]
     },
     "execution_count": 56,
     "metadata": {},
     "output_type": "execute_result"
    }
   ],
   "source": [
    "data.pivot_table('service_satifaction', ['Gender', 'Age_group'], ['Cashback_satifaction', 'Helpline_Assistance']).stack()"
   ]
  },
  {
   "cell_type": "markdown",
   "id": "dd6b9709-4909-48bd-9f49-18886f9551d9",
   "metadata": {},
   "source": [
    "## Plotting and graphs"
   ]
  },
  {
   "cell_type": "code",
   "execution_count": 57,
   "id": "6e3cc40c-2cc7-40c0-b476-e50759f60d88",
   "metadata": {},
   "outputs": [],
   "source": [
    "from plotnine import *"
   ]
  },
  {
   "cell_type": "code",
   "execution_count": 100,
   "id": "182987c6-32d2-4917-be6e-73254990b09b",
   "metadata": {},
   "outputs": [
    {
     "data": {
      "image/png": "[encoded data removed]",
      "text/plain": [
       "<Figure size 640x480 with 1 Axes>"
      ]
     },
     "metadata": {},
     "output_type": "display_data"
    },
    {
     "data": {
      "text/plain": [
       "<ggplot: (118366330022)>"
      ]
     },
     "execution_count": 100,
     "metadata": {},
     "output_type": "execute_result"
    }
   ],
   "source": [
    "(ggplot(data, aes('factor(Gender)', fill='factor(service_satifaction)'))\n",
    " + geom_bar()\n",
    " + geom_text(\n",
    "     aes(label=after_stat('count')),\n",
    "     stat='count',\n",
    "     nudge_y=0.125,\n",
    "     va='bottom'\n",
    " )\n",
    ")"
   ]
  },
  {
   "cell_type": "raw",
   "id": "fe6175ee-24b8-479d-93f3-44a2cfed74fa",
   "metadata": {},
   "source": [
    "several female and neutral informants were recorded, accounting for 0.3 percent of the total consumers who contributed inside the feedback, representing for 7percentage points of the customer base who engaged in the input, with female customers accounting for the bulk of the customers. As women account for more than three-quarters of all delivery services, many of the things which need to be loaded up in the stores should be more appealing to them.\n",
    "Females aged 40-49 make up the majority of frequentist customers, accounting for 15% of the overall share of delivery (54%) to females.\n",
    "Males are unaffected by this situation because the majority of deliveries are made to those aged 40 to 49, accounting for 11 percent of the total 46 percent.\n"
   ]
  },
  {
   "cell_type": "code",
   "execution_count": 64,
   "id": "32cdd41b-881f-4fc6-8934-01b2615ba325",
   "metadata": {},
   "outputs": [
    {
     "data": {
      "image/png": "[encoded data removed]",
      "text/plain": [
       "<Figure size 640x480 with 1 Axes>"
      ]
     },
     "metadata": {},
     "output_type": "display_data"
    },
    {
     "data": {
      "text/plain": [
       "<ggplot: (118366330109)>"
      ]
     },
     "execution_count": 64,
     "metadata": {},
     "output_type": "execute_result"
    }
   ],
   "source": [
    "(ggplot(data, aes('Gender', fill='service_satifaction'))\n",
    " + geom_bar()\n",
    " + geom_text(\n",
    "     aes(label=after_stat('count')),\n",
    "     stat='count',\n",
    "     nudge_x=-0.14,\n",
    "     nudge_y=0.125,\n",
    "     va='bottom'\n",
    " )\n",
    " + geom_text(\n",
    "     aes(label=after_stat('prop*100'), group=1),\n",
    "     stat='count',\n",
    "     nudge_x=0.14,\n",
    "     nudge_y=0.125,\n",
    "     va='bottom',\n",
    "     format_string='({:.1f}%)'\n",
    " )\n",
    ")"
   ]
  },
  {
   "cell_type": "code",
   "execution_count": null,
   "id": "631b8eb8-2c54-4e7f-8460-54c0e2baad6e",
   "metadata": {},
   "outputs": [],
   "source": []
  },
  {
   "cell_type": "code",
   "execution_count": 68,
   "id": "5d75aef4-8cf8-4285-99a3-9455b94a3995",
   "metadata": {},
   "outputs": [
    {
     "data": {
      "image/png": "[encoded data removed]",
      "text/plain": [
       "<Figure size 640x480 with 1 Axes>"
      ]
     },
     "metadata": {},
     "output_type": "display_data"
    },
    {
     "data": {
      "text/plain": [
       "<ggplot: (118366654413)>"
      ]
     },
     "execution_count": 68,
     "metadata": {},
     "output_type": "execute_result"
    }
   ],
   "source": [
    "(ggplot(data, aes('Helpline_Assistance', fill='service_satifaction'))\n",
    " + geom_bar()\n",
    " + geom_text(\n",
    "     aes(label=after_stat('count')),\n",
    "     stat='count',\n",
    "     nudge_x=-0.14,\n",
    "     nudge_y=0.125,\n",
    "     va='bottom'\n",
    " )\n",
    " + geom_text(\n",
    "     aes(label=after_stat('prop*100'), group=2),\n",
    "     stat='count',\n",
    "     nudge_x=0.14,\n",
    "     nudge_y=0.25,\n",
    "     va='bottom',\n",
    "     format_string='({:.1f}%)'\n",
    " )\n",
    ")"
   ]
  },
  {
   "cell_type": "raw",
   "id": "9fe17b53-01b9-4acf-bbcd-d72f74547c36",
   "metadata": {},
   "source": [
    "The bulk of people who don't believe in product brands are close to the bottom customers who aren't really concerned with product satisfaction.\n",
    "Customers who disagree strongly with item originality have been found to have limited spending power, accounting for only approximately 12% of overall sales.\n",
    "The overwhelming of regular users was happy with the goods on sale, with 29.50 % pleased and 28.1 % unsatisfied, showing that some concerns need to be addressed. Those that are satisfied visit once a month, representing for 15% of all visitors, according to research.\n",
    "There are 0.9 percent of people between the ages of 30 and 49 who agreed to some extent, indicating that there is some agreement, there is a chance that loyalty elements exist in the centre’s, and their issues should be investigated to ensure that they do not alter. Customers are impartial in 19.5 percent of cases, with 5.40 percent disapproving and 10% approving.\n"
   ]
  },
  {
   "cell_type": "code",
   "execution_count": 65,
   "id": "3420b9fa-86bf-49d8-8cca-4ce5155917a5",
   "metadata": {},
   "outputs": [
    {
     "name": "stdout",
     "output_type": "stream",
     "text": [
      "<class 'pandas.core.frame.DataFrame'>\n",
      "RangeIndex: 350 entries, 0 to 349\n",
      "Data columns (total 9 columns):\n",
      " #   Column                   Non-Null Count  Dtype \n",
      "---  ------                   --------------  ----- \n",
      " 0   ID                       350 non-null    int64 \n",
      " 1   Gender                   350 non-null    object\n",
      " 2   Age_group                350 non-null    object\n",
      " 3   service_satifaction      350 non-null    int64 \n",
      " 4   Helpline_Assistance      350 non-null    int64 \n",
      " 5   Waiting_period           350 non-null    object\n",
      " 6   VerificationSatifaction  350 non-null    int64 \n",
      " 7   Foodpackaging            350 non-null    object\n",
      " 8   Cashback_satifaction     350 non-null    int64 \n",
      "dtypes: int64(5), object(4)\n",
      "memory usage: 24.7+ KB\n"
     ]
    }
   ],
   "source": [
    "data.info()"
   ]
  },
  {
   "cell_type": "code",
   "execution_count": null,
   "id": "03405cdf-988c-4425-b2aa-440a383c1ebb",
   "metadata": {},
   "outputs": [],
   "source": []
  },
  {
   "cell_type": "code",
   "execution_count": null,
   "id": "1b9b7f6e-da7c-4408-9169-95d761a2e78d",
   "metadata": {},
   "outputs": [],
   "source": []
  },
  {
   "cell_type": "code",
   "execution_count": 71,
   "id": "2f1480dd-0b10-4d39-b099-2435c8700b00",
   "metadata": {},
   "outputs": [
    {
     "data": {
      "image/png": "[encoded data removed]",
      "text/plain": [
       "<Figure size 640x480 with 2 Axes>"
      ]
     },
     "metadata": {},
     "output_type": "display_data"
    },
    {
     "data": {
      "text/plain": [
       "<ggplot: (118366709426)>"
      ]
     },
     "execution_count": 71,
     "metadata": {},
     "output_type": "execute_result"
    }
   ],
   "source": [
    "(ggplot(data, aes('Helpline_Assistance', fill='service_satifaction'))\n",
    " + geom_bar()\n",
    " + geom_text(\n",
    "     aes(label=after_stat('count')),\n",
    "     stat='count',\n",
    "     nudge_x=-0.14,\n",
    "     nudge_y=0.125,\n",
    "     va='bottom'\n",
    " )\n",
    " + geom_text(\n",
    "     aes(label=after_stat('prop*100'), group=2),\n",
    "     stat='count',\n",
    "     nudge_x=0.14,\n",
    "     nudge_y=0.25,\n",
    "     va='bottom',\n",
    "     format_string='({:.1f}%)'\n",
    " )\n",
    " + facet_wrap('Gender')\n",
    ")"
   ]
  },
  {
   "cell_type": "raw",
   "id": "09f3fd75-35fc-45c8-868b-9ea82ecef121",
   "metadata": {},
   "source": [
    "Customers who disagree strongly with item originality have been found to have limited spending power, accounting for only approximately 12% of overall sales.\n",
    "The overwhelming of regular users was happy with the goods on sale, with 29.50 % pleased and 28.1 % unsatisfied, showing that some concerns need to be addressed. Those that are satisfied visit once a month, representing for 15% of all visitors, according to research.\n",
    "There are 0.9 percent of people between the ages of 30 and 49 who agreed to some extent, indicating that there is some agreement, there is a chance that loyalty elements exist in the centre’s, and their issues should be investigated to ensure that they do not alter. Customers are impartial in 19.5 percent of cases, with 5.40 percent disapproving and 10% approving.\n"
   ]
  },
  {
   "cell_type": "code",
   "execution_count": 101,
   "id": "070968c9-b530-429b-8e3e-5486da07b7bd",
   "metadata": {},
   "outputs": [
    {
     "data": {
      "text/html": [
       "<div>\n",
       "<style scoped>\n",
       "    .dataframe tbody tr th:only-of-type {\n",
       "        vertical-align: middle;\n",
       "    }\n",
       "\n",
       "    .dataframe tbody tr th {\n",
       "        vertical-align: top;\n",
       "    }\n",
       "\n",
       "    .dataframe thead th {\n",
       "        text-align: right;\n",
       "    }\n",
       "</style>\n",
       "<table border=\"1\" class=\"dataframe\">\n",
       "  <thead>\n",
       "    <tr style=\"text-align: right;\">\n",
       "      <th>Helpline_Assistance</th>\n",
       "      <th>Agree</th>\n",
       "      <th>Avaragely_Agree</th>\n",
       "      <th>Disagree</th>\n",
       "      <th>Little_Agree</th>\n",
       "      <th>Little_disagree</th>\n",
       "      <th>Neutral</th>\n",
       "      <th>Somewhat_Agree</th>\n",
       "      <th>Somewhat_disagree</th>\n",
       "      <th>Strongly_Agree</th>\n",
       "    </tr>\n",
       "    <tr>\n",
       "      <th>service_satifaction</th>\n",
       "      <th></th>\n",
       "      <th></th>\n",
       "      <th></th>\n",
       "      <th></th>\n",
       "      <th></th>\n",
       "      <th></th>\n",
       "      <th></th>\n",
       "      <th></th>\n",
       "      <th></th>\n",
       "    </tr>\n",
       "  </thead>\n",
       "  <tbody>\n",
       "    <tr>\n",
       "      <th>Agree</th>\n",
       "      <td>2</td>\n",
       "      <td>1</td>\n",
       "      <td>1</td>\n",
       "      <td>13</td>\n",
       "      <td>22</td>\n",
       "      <td>5</td>\n",
       "      <td>4</td>\n",
       "      <td>12</td>\n",
       "      <td>0</td>\n",
       "    </tr>\n",
       "    <tr>\n",
       "      <th>Avaragely_Agree</th>\n",
       "      <td>1</td>\n",
       "      <td>1</td>\n",
       "      <td>1</td>\n",
       "      <td>12</td>\n",
       "      <td>11</td>\n",
       "      <td>5</td>\n",
       "      <td>8</td>\n",
       "      <td>6</td>\n",
       "      <td>0</td>\n",
       "    </tr>\n",
       "    <tr>\n",
       "      <th>Little_Agree</th>\n",
       "      <td>1</td>\n",
       "      <td>5</td>\n",
       "      <td>0</td>\n",
       "      <td>14</td>\n",
       "      <td>17</td>\n",
       "      <td>12</td>\n",
       "      <td>3</td>\n",
       "      <td>10</td>\n",
       "      <td>0</td>\n",
       "    </tr>\n",
       "    <tr>\n",
       "      <th>Little_disagree</th>\n",
       "      <td>0</td>\n",
       "      <td>1</td>\n",
       "      <td>0</td>\n",
       "      <td>11</td>\n",
       "      <td>9</td>\n",
       "      <td>5</td>\n",
       "      <td>1</td>\n",
       "      <td>10</td>\n",
       "      <td>1</td>\n",
       "    </tr>\n",
       "    <tr>\n",
       "      <th>Neutral</th>\n",
       "      <td>0</td>\n",
       "      <td>0</td>\n",
       "      <td>1</td>\n",
       "      <td>5</td>\n",
       "      <td>7</td>\n",
       "      <td>5</td>\n",
       "      <td>6</td>\n",
       "      <td>3</td>\n",
       "      <td>0</td>\n",
       "    </tr>\n",
       "    <tr>\n",
       "      <th>Somewhat_Agree</th>\n",
       "      <td>1</td>\n",
       "      <td>2</td>\n",
       "      <td>1</td>\n",
       "      <td>16</td>\n",
       "      <td>9</td>\n",
       "      <td>12</td>\n",
       "      <td>8</td>\n",
       "      <td>9</td>\n",
       "      <td>1</td>\n",
       "    </tr>\n",
       "    <tr>\n",
       "      <th>Strongly_Agree</th>\n",
       "      <td>1</td>\n",
       "      <td>2</td>\n",
       "      <td>0</td>\n",
       "      <td>9</td>\n",
       "      <td>18</td>\n",
       "      <td>9</td>\n",
       "      <td>6</td>\n",
       "      <td>11</td>\n",
       "      <td>3</td>\n",
       "    </tr>\n",
       "  </tbody>\n",
       "</table>\n",
       "</div>"
      ],
      "text/plain": [
       "Helpline_Assistance  Agree  Avaragely_Agree  Disagree  Little_Agree  \\\n",
       "service_satifaction                                                   \n",
       "Agree                    2                1         1            13   \n",
       "Avaragely_Agree          1                1         1            12   \n",
       "Little_Agree             1                5         0            14   \n",
       "Little_disagree          0                1         0            11   \n",
       "Neutral                  0                0         1             5   \n",
       "Somewhat_Agree           1                2         1            16   \n",
       "Strongly_Agree           1                2         0             9   \n",
       "\n",
       "Helpline_Assistance  Little_disagree  Neutral  Somewhat_Agree  \\\n",
       "service_satifaction                                             \n",
       "Agree                             22        5               4   \n",
       "Avaragely_Agree                   11        5               8   \n",
       "Little_Agree                      17       12               3   \n",
       "Little_disagree                    9        5               1   \n",
       "Neutral                            7        5               6   \n",
       "Somewhat_Agree                     9       12               8   \n",
       "Strongly_Agree                    18        9               6   \n",
       "\n",
       "Helpline_Assistance  Somewhat_disagree  Strongly_Agree  \n",
       "service_satifaction                                     \n",
       "Agree                               12               0  \n",
       "Avaragely_Agree                      6               0  \n",
       "Little_Agree                        10               0  \n",
       "Little_disagree                     10               1  \n",
       "Neutral                              3               0  \n",
       "Somewhat_Agree                       9               1  \n",
       "Strongly_Agree                      11               3  "
      ]
     },
     "execution_count": 101,
     "metadata": {},
     "output_type": "execute_result"
    }
   ],
   "source": [
    "cross_tab = pd.crosstab(index=data['service_satifaction'],\n",
    "                        columns=data['Helpline_Assistance'])\n",
    "cross_tab"
   ]
  },
  {
   "cell_type": "code",
   "execution_count": null,
   "id": "ee895fb5-19d3-4955-b52d-bd5e116cf3c4",
   "metadata": {},
   "outputs": [],
   "source": []
  },
  {
   "cell_type": "code",
   "execution_count": 102,
   "id": "d9ab68a2-e705-4ba6-ba35-f772d7e28e15",
   "metadata": {},
   "outputs": [
    {
     "data": {
      "text/html": [
       "<div>\n",
       "<style scoped>\n",
       "    .dataframe tbody tr th:only-of-type {\n",
       "        vertical-align: middle;\n",
       "    }\n",
       "\n",
       "    .dataframe tbody tr th {\n",
       "        vertical-align: top;\n",
       "    }\n",
       "\n",
       "    .dataframe thead th {\n",
       "        text-align: right;\n",
       "    }\n",
       "</style>\n",
       "<table border=\"1\" class=\"dataframe\">\n",
       "  <thead>\n",
       "    <tr style=\"text-align: right;\">\n",
       "      <th>Foodpackaging</th>\n",
       "      <th>Agree</th>\n",
       "      <th>Avaragely_Agree</th>\n",
       "      <th>Disagree</th>\n",
       "      <th>Little_Agree</th>\n",
       "      <th>Little_disagree</th>\n",
       "      <th>Neutral</th>\n",
       "      <th>Somewhat_Agree</th>\n",
       "      <th>Somewhat_disagree</th>\n",
       "      <th>Strongly_Agree</th>\n",
       "      <th>Strongly_disagree</th>\n",
       "    </tr>\n",
       "    <tr>\n",
       "      <th>Waiting_period</th>\n",
       "      <th></th>\n",
       "      <th></th>\n",
       "      <th></th>\n",
       "      <th></th>\n",
       "      <th></th>\n",
       "      <th></th>\n",
       "      <th></th>\n",
       "      <th></th>\n",
       "      <th></th>\n",
       "      <th></th>\n",
       "    </tr>\n",
       "  </thead>\n",
       "  <tbody>\n",
       "    <tr>\n",
       "      <th>Agree</th>\n",
       "      <td>0.625000</td>\n",
       "      <td>0.000000</td>\n",
       "      <td>0.000000</td>\n",
       "      <td>0.000000</td>\n",
       "      <td>0.000000</td>\n",
       "      <td>0.000000</td>\n",
       "      <td>0.000000</td>\n",
       "      <td>0.000000</td>\n",
       "      <td>0.375000</td>\n",
       "      <td>0.000000</td>\n",
       "    </tr>\n",
       "    <tr>\n",
       "      <th>Avaragely_Agree</th>\n",
       "      <td>0.000000</td>\n",
       "      <td>1.000000</td>\n",
       "      <td>0.000000</td>\n",
       "      <td>0.000000</td>\n",
       "      <td>0.000000</td>\n",
       "      <td>0.000000</td>\n",
       "      <td>0.000000</td>\n",
       "      <td>0.000000</td>\n",
       "      <td>0.000000</td>\n",
       "      <td>0.000000</td>\n",
       "    </tr>\n",
       "    <tr>\n",
       "      <th>Disagree</th>\n",
       "      <td>0.000000</td>\n",
       "      <td>0.000000</td>\n",
       "      <td>0.000000</td>\n",
       "      <td>0.000000</td>\n",
       "      <td>0.000000</td>\n",
       "      <td>0.000000</td>\n",
       "      <td>0.000000</td>\n",
       "      <td>0.000000</td>\n",
       "      <td>0.000000</td>\n",
       "      <td>1.000000</td>\n",
       "    </tr>\n",
       "    <tr>\n",
       "      <th>Little_Agree</th>\n",
       "      <td>0.000000</td>\n",
       "      <td>0.000000</td>\n",
       "      <td>0.000000</td>\n",
       "      <td>0.321429</td>\n",
       "      <td>0.000000</td>\n",
       "      <td>0.650000</td>\n",
       "      <td>0.007143</td>\n",
       "      <td>0.000000</td>\n",
       "      <td>0.000000</td>\n",
       "      <td>0.021429</td>\n",
       "    </tr>\n",
       "    <tr>\n",
       "      <th>Little_disagree</th>\n",
       "      <td>0.000000</td>\n",
       "      <td>0.000000</td>\n",
       "      <td>0.000000</td>\n",
       "      <td>0.000000</td>\n",
       "      <td>1.000000</td>\n",
       "      <td>0.000000</td>\n",
       "      <td>0.000000</td>\n",
       "      <td>0.000000</td>\n",
       "      <td>0.000000</td>\n",
       "      <td>0.000000</td>\n",
       "    </tr>\n",
       "    <tr>\n",
       "      <th>Neutral</th>\n",
       "      <td>0.078431</td>\n",
       "      <td>0.098039</td>\n",
       "      <td>0.078431</td>\n",
       "      <td>0.235294</td>\n",
       "      <td>0.078431</td>\n",
       "      <td>0.235294</td>\n",
       "      <td>0.000000</td>\n",
       "      <td>0.000000</td>\n",
       "      <td>0.196078</td>\n",
       "      <td>0.000000</td>\n",
       "    </tr>\n",
       "    <tr>\n",
       "      <th>Somewhat_Agree</th>\n",
       "      <td>0.000000</td>\n",
       "      <td>0.000000</td>\n",
       "      <td>0.000000</td>\n",
       "      <td>0.000000</td>\n",
       "      <td>0.000000</td>\n",
       "      <td>0.000000</td>\n",
       "      <td>1.000000</td>\n",
       "      <td>0.000000</td>\n",
       "      <td>0.000000</td>\n",
       "      <td>0.000000</td>\n",
       "    </tr>\n",
       "    <tr>\n",
       "      <th>Somewhat_disagree</th>\n",
       "      <td>0.000000</td>\n",
       "      <td>0.000000</td>\n",
       "      <td>0.000000</td>\n",
       "      <td>0.000000</td>\n",
       "      <td>0.135802</td>\n",
       "      <td>0.802469</td>\n",
       "      <td>0.000000</td>\n",
       "      <td>0.061728</td>\n",
       "      <td>0.000000</td>\n",
       "      <td>0.000000</td>\n",
       "    </tr>\n",
       "    <tr>\n",
       "      <th>Strongly_Agree</th>\n",
       "      <td>0.000000</td>\n",
       "      <td>0.000000</td>\n",
       "      <td>0.000000</td>\n",
       "      <td>0.000000</td>\n",
       "      <td>0.000000</td>\n",
       "      <td>0.000000</td>\n",
       "      <td>0.000000</td>\n",
       "      <td>0.000000</td>\n",
       "      <td>1.000000</td>\n",
       "      <td>0.000000</td>\n",
       "    </tr>\n",
       "  </tbody>\n",
       "</table>\n",
       "</div>"
      ],
      "text/plain": [
       "Foodpackaging         Agree  Avaragely_Agree  Disagree  Little_Agree  \\\n",
       "Waiting_period                                                         \n",
       "Agree              0.625000         0.000000  0.000000      0.000000   \n",
       "Avaragely_Agree    0.000000         1.000000  0.000000      0.000000   \n",
       "Disagree           0.000000         0.000000  0.000000      0.000000   \n",
       "Little_Agree       0.000000         0.000000  0.000000      0.321429   \n",
       "Little_disagree    0.000000         0.000000  0.000000      0.000000   \n",
       "Neutral            0.078431         0.098039  0.078431      0.235294   \n",
       "Somewhat_Agree     0.000000         0.000000  0.000000      0.000000   \n",
       "Somewhat_disagree  0.000000         0.000000  0.000000      0.000000   \n",
       "Strongly_Agree     0.000000         0.000000  0.000000      0.000000   \n",
       "\n",
       "Foodpackaging      Little_disagree   Neutral  Somewhat_Agree  \\\n",
       "Waiting_period                                                 \n",
       "Agree                     0.000000  0.000000        0.000000   \n",
       "Avaragely_Agree           0.000000  0.000000        0.000000   \n",
       "Disagree                  0.000000  0.000000        0.000000   \n",
       "Little_Agree              0.000000  0.650000        0.007143   \n",
       "Little_disagree           1.000000  0.000000        0.000000   \n",
       "Neutral                   0.078431  0.235294        0.000000   \n",
       "Somewhat_Agree            0.000000  0.000000        1.000000   \n",
       "Somewhat_disagree         0.135802  0.802469        0.000000   \n",
       "Strongly_Agree            0.000000  0.000000        0.000000   \n",
       "\n",
       "Foodpackaging      Somewhat_disagree  Strongly_Agree  Strongly_disagree  \n",
       "Waiting_period                                                           \n",
       "Agree                       0.000000        0.375000           0.000000  \n",
       "Avaragely_Agree             0.000000        0.000000           0.000000  \n",
       "Disagree                    0.000000        0.000000           1.000000  \n",
       "Little_Agree                0.000000        0.000000           0.021429  \n",
       "Little_disagree             0.000000        0.000000           0.000000  \n",
       "Neutral                     0.000000        0.196078           0.000000  \n",
       "Somewhat_Agree              0.000000        0.000000           0.000000  \n",
       "Somewhat_disagree           0.061728        0.000000           0.000000  \n",
       "Strongly_Agree              0.000000        1.000000           0.000000  "
      ]
     },
     "execution_count": 102,
     "metadata": {},
     "output_type": "execute_result"
    }
   ],
   "source": [
    "cross_tab_prop = pd.crosstab(index=data['Waiting_period'],\n",
    "                             columns=data['Foodpackaging'],\n",
    "                             normalize=\"index\")\n",
    "cross_tab_prop"
   ]
  },
  {
   "cell_type": "code",
   "execution_count": 105,
   "id": "165dc31b-e7d6-436b-bb79-b7c8541aaf87",
   "metadata": {},
   "outputs": [
    {
     "data": {
      "image/png": "[encoded data removed]",
      "text/plain": [
       "<Figure size 720x432 with 1 Axes>"
      ]
     },
     "metadata": {
      "needs_background": "light"
     },
     "output_type": "display_data"
    }
   ],
   "source": [
    "cross_tab_prop.plot(kind='bar', \n",
    "                    stacked=True, \n",
    "                    colormap='tab10', \n",
    "                    figsize=(10, 6))\n",
    "\n",
    "plt.legend(loc=\"upper left\", ncol=2)\n",
    "plt.xlabel(\"Waiting_period\")\n",
    "plt.ylabel(\"Proportion\")\n",
    "\n",
    "\n",
    "for n, x in enumerate([*cross_tab.index.values]):\n",
    "    for proportion in cross_tab_prop.loc[x]:\n",
    "                \n",
    "        plt.text(x=n,\n",
    "                 y=proportion,\n",
    "                 s=f'{np.round(proportion * 100, 1)}%', \n",
    "                 color=\"black\",\n",
    "                 fontsize=12,\n",
    "                 fontweight=\"bold\")\n",
    "\n",
    "plt.show()"
   ]
  },
  {
   "cell_type": "raw",
   "id": "cdd0b6e3-8a46-418a-8710-e1ab98bfcc9e",
   "metadata": {},
   "source": [
    "The relationship between customer happiness and profitability and getting aid satisfaction via the hotline was viewed as neutral by 36.36 percent of females, while 51.85 percent of males were somewhat disagreed by 51.85 percent of males.\n",
    "Males who disagreed with the relationship between contentment and hotline support received the highest rating (51%) followed by 40 percent who strongly disagreed. This means that instead of referring males to a helpline, the company should look for another solution.\n",
    "When it comes to product age and satisfaction, the older the product, the better. Whenever product age is analyzed in relation to satisfaction, it was observed that people who truly consider in customer satisfaction and service are on average of 50 years old, with an expenditure range of 40 dollars across the universal distribution"
   ]
  },
  {
   "cell_type": "code",
   "execution_count": 107,
   "id": "a7f38495-d6a4-4137-8f8f-9e65fffbba0c",
   "metadata": {},
   "outputs": [
    {
     "data": {
      "image/png": "[encoded data removed]",
      "text/plain": [
       "<Figure size 432x288 with 1 Axes>"
      ]
     },
     "metadata": {},
     "output_type": "display_data"
    }
   ],
   "source": [
    "import matplotlib.pyplot as plt\n",
    "\n",
    "labels= ['service_satifaction', 'Helpline_Assistance', 'Waiting_period', 'Foodpackaging']\n",
    "\n",
    "colors=['blue', 'yellow', 'green', 'orange']\n",
    "\n",
    "sizes= [1500, 600, 500, 300]\n",
    "\n",
    "plt.pie(sizes,labels=labels, colors=colors, startangle=90, shadow=True,explode=(0.1, 0.1, 0.1, 0.1), autopct='%1.2f%%')\n",
    "\n",
    "plt.title('Factors affecting customer satisfaction')\n",
    "\n",
    "plt.axis('equal')\n",
    "\n",
    "plt.show()"
   ]
  },
  {
   "cell_type": "raw",
   "id": "c79d0a3c-40bd-41e7-9967-2f448e9a07a0",
   "metadata": {},
   "source": [
    "When a company wants to optimize client contentment and profit, it needs to assure a constant flow of items in and out. To do so, it needs to examine consumer satisfaction levels in order to develop delivery tactics. As a result, the majority of respondents (17.7%) Even when they're not cared to in a timely manner, they respond. Because the majority of their clients are not frequently visiting, managers should develop daily delivery tactics to optimize general delivery."
   ]
  },
  {
   "cell_type": "code",
   "execution_count": 106,
   "id": "5e4b0b7e-aca8-48e3-9218-d2a92841773b",
   "metadata": {},
   "outputs": [
    {
     "data": {
      "text/plain": [
       "Index(['ID', 'Gender', 'Age_group', 'service_satifaction',\n",
       "       'Helpline_Assistance', 'Waiting_period', 'VerificationSatifaction',\n",
       "       'Foodpackaging', 'Cashback_satifaction'],\n",
       "      dtype='object')"
      ]
     },
     "execution_count": 106,
     "metadata": {},
     "output_type": "execute_result"
    }
   ],
   "source": [
    "data.columns"
   ]
  },
  {
   "cell_type": "code",
   "execution_count": 109,
   "id": "6bc2d40c-6e61-4391-9732-71e0ffcef8a3",
   "metadata": {},
   "outputs": [
    {
     "data": {
      "text/plain": [
       "<AxesSubplot:>"
      ]
     },
     "execution_count": 109,
     "metadata": {},
     "output_type": "execute_result"
    },
    {
     "data": {
      "image/png": "[encoded data removed]",
      "text/plain": [
       "<Figure size 432x288 with 1 Axes>"
      ]
     },
     "metadata": {
      "needs_background": "light"
     },
     "output_type": "display_data"
    }
   ],
   "source": [
    "data.Gender.value_counts().sort_index(ascending=False).plot(kind='barh')"
   ]
  },
  {
   "cell_type": "code",
   "execution_count": null,
   "id": "a7e94c0a-edca-4ce7-80d4-68d3c046fca6",
   "metadata": {},
   "outputs": [],
   "source": []
  },
  {
   "cell_type": "code",
   "execution_count": 110,
   "id": "92942dba-fc62-4f93-bbc3-5d33ec768579",
   "metadata": {},
   "outputs": [
    {
     "data": {
      "text/plain": [
       "Female    196\n",
       "Male      154\n",
       "Name: Gender, dtype: int64"
      ]
     },
     "execution_count": 110,
     "metadata": {},
     "output_type": "execute_result"
    }
   ],
   "source": [
    "data.Gender.value_counts()"
   ]
  },
  {
   "cell_type": "code",
   "execution_count": 111,
   "id": "112975c1-ff21-4edb-81a8-ab4602a23a8a",
   "metadata": {},
   "outputs": [
    {
     "data": {
      "image/png": "[encoded data removed]",
      "text/plain": [
       "<Figure size 432x288 with 1 Axes>"
      ]
     },
     "metadata": {},
     "output_type": "display_data"
    }
   ],
   "source": [
    "labels= ['Female', 'Male']\n",
    "\n",
    "colors=['blue', 'green']\n",
    "\n",
    "sizes= [196, 154]\n",
    "\n",
    "plt.pie(sizes,labels=labels, colors=colors, startangle=90, shadow=True,explode=(0.1, 0.1), autopct='%1.2f%%')\n",
    "\n",
    "plt.title('Gender effect on satisfaction')\n",
    "\n",
    "plt.axis('equal')\n",
    "\n",
    "plt.show()"
   ]
  },
  {
   "cell_type": "markdown",
   "id": "cdf5ba00-6f23-4e37-bcb1-bcbafd1bcdec",
   "metadata": {},
   "source": [
    "One of the most important aspects in any business's success is the level of client impression of the product, which aids in the implementation of products that precisely match their demands and covers up their perception if it is unfavourable.\n",
    "To do so, the design and distinctiveness of the products are investigated in order to determine how satisfied clients are with them. From those who agree with the current situation to those who disagree, ratings were provided. This was distributed according to the respondents' occupations.\n",
    "Females made up the majority of individuals who expressed their opinions, accounting for 56 percent of all respondents (across all levels of opinion) vs 44 percent of male respondents. The current strategies and approaches are satisfactory to the majority of females. This is because approximately 44% of respondents are happy with current company strategy and layouts.\n"
   ]
  },
  {
   "cell_type": "code",
   "execution_count": null,
   "id": "38314c7a-121d-41f0-b4e9-99ba1ddbdca1",
   "metadata": {},
   "outputs": [],
   "source": []
  }
 ],
 "metadata": {
  "kernelspec": {
   "display_name": "Python 3 (ipykernel)",
   "language": "python",
   "name": "python3"
  },
  "language_info": {
   "codemirror_mode": {
    "name": "ipython",
    "version": 3
   },
   "file_extension": ".py",
   "mimetype": "text/x-python",
   "name": "python",
   "nbconvert_exporter": "python",
   "pygments_lexer": "ipython3",
   "version": "3.9.7"
  }
 },
 "nbformat": 4,
 "nbformat_minor": 5
}
